{
 "metadata": {
  "kernelspec": {
   "display_name": "Streamlit Notebook",
   "name": "streamlit"
  }
 },
 "nbformat_minor": 5,
 "nbformat": 4,
 "cells": [
  {
   "cell_type": "markdown",
   "id": "0052ca8b-8a79-4acf-a5f2-cf5e96fa1549",
   "metadata": {
    "name": "cell15",
    "collapsed": false
   },
   "source": "# Forecasting time-series on a map\n## Yellow Taxi in New York\n\nThe project's goal is to learn how to predict the number of trips in the coming hours in each area of New York. To accomplish this, we will ingest the raw data and then aggregate it by hour and region. For simplicity, we will use [Discrete Global Grid H3](https://www.uber.com/en-DE/blog/h3/). The result will be an hourly time-series, each representing the count of trips originating from distinct areas. Before running prediction and visualizing results, we will enrich data with third-party signals, such as information about holidays and offline sports events.\n\nDuring the project, you will learn how to:\n- Work with geospatial data\n- Predict time-series of complex structure\n- Enrich data with new features\n\nThis approach is not unique to trip forecasting but is equally applicable in various scenarios where predictive analysis is required. Examples include forecasting scooter or bike pickups, food delivery orders, sales across multiple retail outlets, or predicting the volume of cash withdrawals across an ATM network. Such models are invaluable for planning and optimization across various industries and services.\n\n## Step 1. Data ingestion\n\nThe New York Taxi and Limousine Commission (TLC) has provided detailed, anonymized customer travel data since 2009. Painted yellow cars can pick up passengers in any of the city's five boroughs. Raw data on yellow taxi rides can be found on the [TLC website](https://www.nyc.gov/site/tlc/about/tlc-trip-record-data.page). This data is divided into files by month. Each file contains detailed trip information, you can read about it [here](https://www.nyc.gov/assets/tlc/downloads/pdf/data_dictionary_trip_records_yellow.pdf). For our project, we will use a compact version of that dataset, it will include the following fields:\n- Pickup Time\n- Dropoff Time\n- Distance\n- Pickup Location\n- Dropoff Location\n- Total Amount\n\nTo complete the project, you will need to download and process more than 20GB of raw data. We will simplify this task by putting the dataset on an S3 bucket, which you will connect as an external stage."
  },
  {
   "cell_type": "code",
   "id": "3775908f-ca36-4846-8f38-5adca39217f2",
   "metadata": {
    "language": "sql",
    "name": "cell1",
    "collapsed": false,
    "codeCollapsed": false
   },
   "source": "-- Create a database that we will use for this project\ncreate database if not exists aa_quickstart;",
   "execution_count": null,
   "outputs": []
  },
  {
   "cell_type": "code",
   "id": "f33d5199-54ac-4bc1-91d2-bd563bcb09eb",
   "metadata": {
    "language": "sql",
    "name": "cell5",
    "collapsed": false
   },
   "outputs": [],
   "source": "-- Select the newly created database for further use\nuse aa_quickstart.public;",
   "execution_count": null
  },
  {
   "cell_type": "code",
   "id": "14ca005f-47a8-44d5-a239-17bf16b39038",
   "metadata": {
    "language": "sql",
    "name": "cell4",
    "collapsed": false
   },
   "outputs": [],
   "source": "-- Create a file format which corresponds to the format of the trip data we stored in S3\n\nCREATE OR REPLACE FILE FORMAT csv_format TYPE = csv\nFIELD_OPTIONALLY_ENCLOSED_BY = '\"' FIELD_DELIMITER = ';' compression='gzip';",
   "execution_count": null
  },
  {
   "cell_type": "code",
   "id": "603dc9eb-d88a-474b-9bd2-a3232af802f8",
   "metadata": {
    "language": "sql",
    "name": "cell9",
    "collapsed": false
   },
   "outputs": [],
   "source": "-- We need this step because the Marketplace currently lacks PredictHQ events data for 2014-2015. We will remove it later.\n\nCREATE OR REPLACE FILE FORMAT csv_format_nocompression TYPE = csv\nFIELD_OPTIONALLY_ENCLOSED_BY = '\"' FIELD_DELIMITER = ',';",
   "execution_count": null
  },
  {
   "cell_type": "code",
   "id": "8d50cbf4-0c8d-4950-86cb-114990437ac9",
   "metadata": {
    "language": "sql",
    "name": "cell2",
    "collapsed": false
   },
   "source": "-- Create an external stage using S3 with test data\n\nCREATE OR REPLACE STAGE aa_stage URL = 's3://sfquickstarts-obielov/advanced_analytics/';",
   "execution_count": null,
   "outputs": []
  },
  {
   "cell_type": "code",
   "id": "c695373e-ac74-4b62-a1f1-08206cbd5c81",
   "metadata": {
    "language": "sql",
    "name": "cell3",
    "collapsed": false
   },
   "source": "-- Create a table where we will store the New York taxi pickups dataset\n\nCREATE OR REPLACE TABLE ny_taxi_rides (vendor_id STRING, \n                                 pickup_datetime TIMESTAMP,\n                                 dropoff_datetime TIMESTAMP,\n                                 distance FLOAT,\n                                 pickup_location GEOGRAPHY,\n                                 dropoff_location GEOGRAPHY,\n                                 total_amount FLOAT);",
   "execution_count": null,
   "outputs": []
  },
  {
   "cell_type": "code",
   "id": "2da00553-d2ba-4a06-b7db-e5cc931e73be",
   "metadata": {
    "language": "sql",
    "name": "cell6",
    "collapsed": false
   },
   "outputs": [],
   "source": "-- Fill ny_taxi_rides table with test data: 19Min on Medium\n\nCOPY INTO ny_taxi_rides\nFROM @aa_stage/yellow_taxi\nFILE_FORMAT = (FORMAT_NAME = csv_format);",
   "execution_count": null
  },
  {
   "cell_type": "code",
   "id": "fd93f809-6d4b-444d-9a81-8ac9f90b32eb",
   "metadata": {
    "language": "sql",
    "name": "cell8",
    "collapsed": false
   },
   "outputs": [],
   "source": "-- Creating table for PredictHQ data\n-- We need this step because the Marketplace currently lacks PredictHQ events data for 2014-2015. We will remove it later.\n\ncreate or replace TABLE aa_quickstart.PUBLIC.PREDICTHQ_DATA (\n\tTITLE VARCHAR(16777216),\n\tLABELS VARCHAR(16777216),\n\tPHQ_LABELS VARCHAR(16777216),\n\tCATEGORY VARCHAR(16777216),\n\tDESCRIPTION VARCHAR(16777216),\n\tSTART_TIME TIMESTAMP_NTZ(9),\n\tEND_TIME TIMESTAMP_NTZ(9),\n\tGEOG GEOGRAPHY,\n\tVENUE_ID VARCHAR(16777216),\n\tVENUE_NAME VARCHAR(16777216),\n\tVENUE_FORMATTED_ADDRESS VARCHAR(16777216),\n\tSCOPE VARCHAR(16777216),\n\tRANK NUMBER(38,0),\n\tPRIVATE BOOLEAN\n);",
   "execution_count": null
  },
  {
   "cell_type": "code",
   "id": "95b16579-394b-455f-8b4e-1b5a28721e12",
   "metadata": {
    "language": "sql",
    "name": "cell7",
    "collapsed": false
   },
   "outputs": [],
   "source": "-- Loading PredictHQ data\n-- We need this step because the Marketplace currently lacks PredictHQ events data for 2014-2015. We will remove it later.\n\nCOPY INTO PREDICTHQ_DATA\nFROM @aa_stage/predicthq.csv\nFILE_FORMAT = (FORMAT_NAME = csv_format_nocompression);",
   "execution_count": null
  },
  {
   "cell_type": "markdown",
   "id": "a8195f24-7b65-431d-b7e1-ff4d84aa52ae",
   "metadata": {
    "name": "cell14",
    "collapsed": false
   },
   "source": "## Step 2. Data transformation\n\n\nIn this step, we'll divide New York into uniformly sized regions and assign each taxi pick-up location to one of these regions. Our goal is to get a table with the number of taxi trips per hour for each region.\n\nTo achieve this division, we will use the Discrete Global Grid H3. H3 organizes the world into a grid of equal-sized hexagonal cells, with each cell identified by a unique code (either a string or an integer). This hierarchical grid system allows cells to be combined into larger cells or subdivided into smaller ones, facilitating efficient geospatial data processing.\n\nH3 offers 16 different resolutions for dividing areas into hexagons, ranging from resolution 0, where the world is segmented into 122 large hexagons, to resolution 15. At this resolution, each hexagon is less than a square meter, covering the world with approximately 600 trillion hexagons. You can read more about resolutions [here](https://h3geo.org/docs/core-library/restable/). For our task, we will use resolution 8, where the size of each hexagon is about 0.7 sq. km (0.3 sq. miles).\n\nSince on resolution 8, we might have more than 1000 hexagons for New York, to speed up the training process you will keep only hexagons where in 2014 were more than 1M pickups. It's important to remember that if the raw data lacks records for a specific hour and area combination, the aggregated data for that period should be marked as 0. This step is crucial for accurate time series prediction.\n"
  },
  {
   "cell_type": "code",
   "id": "df5a674e-4923-4449-aa56-11d711eb270b",
   "metadata": {
    "language": "sql",
    "name": "cell10",
    "collapsed": false
   },
   "outputs": [],
   "source": "-- Creating a table where, for each pair of timestamp/H3, we calculate the number of trips. \n-- We will strip off minutes and seconds and keep only hours\n\nCREATE OR REPLACE TABLE ny_taxi_rides_h3 as\nSELECT TIME_SLICE(TO_TIMESTAMP_NTZ(pickup_datetime), 60, 'minute', 'START') AS pickup_datetime,\n       H3_POINT_TO_CELL_string(pickup_location, 8) as h3, \n       count(*) as pickups\nfrom ny_taxi_rides\ngroup by 1, 2;",
   "execution_count": null
  },
  {
   "cell_type": "markdown",
   "id": "5d2c8db7-1b6e-42f5-9ed7-8095d29512e4",
   "metadata": {
    "name": "cell17",
    "collapsed": false
   },
   "source": ""
  },
  {
   "cell_type": "code",
   "id": "0b39fec1-bc79-40d8-a542-9255ee97e028",
   "metadata": {
    "language": "sql",
    "name": "cell11",
    "collapsed": false
   },
   "outputs": [],
   "source": "-- Remove hexagons where, in 2014, there were less than 1M trips.\n\nCREATE OR REPLACE TABLE ny_taxi_rides_h3 AS\nWITH all_hexagons AS (\n    SELECT h3, \n           SUM(pickups) AS total_pickups\n    FROM ny_taxi_rides_h3\n    where year(pickup_datetime) = 2014\n    GROUP BY 1\n)\nSELECT t1.*\nFROM ny_taxi_rides_h3 t1\nINNER JOIN all_hexagons t2 ON t1.h3 = t2.h3\nWHERE total_pickups >= 1000000;",
   "execution_count": null
  },
  {
   "cell_type": "code",
   "id": "a92e046d-29ed-4008-841c-653e84b8aefc",
   "metadata": {
    "language": "sql",
    "name": "cell12",
    "collapsed": false
   },
   "outputs": [],
   "source": "-- For any H3 location and timestamp pair without recorded trips, add records indicating that there were zero trips\n\nCREATE OR REPLACE TABLE ny_taxi_rides_h3 AS\nWITH all_dates_hexagons AS (\n    SELECT DATEADD(HOUR, VALUE::int, '2014-01-01'::timestamp) AS pickup_datetime, h3\n    FROM TABLE(FLATTEN(ARRAY_GENERATE_RANGE(0, DATEDIFF('hour', '2014-01-01', '2015-12-31 23:59:00') + 1)))\n    CROSS JOIN (SELECT DISTINCT h3 FROM ny_taxi_rides_h3)\n)\nSELECT TO_TIMESTAMP_NTZ(t1.pickup_datetime) as pickup_datetime, \nt1.h3, IFF(t2.pickups IS NOT NULL, t2.pickups, 0) AS pickups\nFROM all_dates_hexagons t1\nLEFT JOIN ny_taxi_rides_h3 t2 ON t1.pickup_datetime = t2.pickup_datetime AND t1.h3 = t2.h3;",
   "execution_count": null
  },
  {
   "cell_type": "markdown",
   "id": "f8698528-0a49-4afa-b4bc-daaffec1f57e",
   "metadata": {
    "name": "cell21",
    "collapsed": false
   },
   "source": "## Step 4. Data Enrichment\n\nIn this step, we will enhance our dataset with extra features that could improve the accuracy of our predictions. It makes sense to consider that the day of the week and public or school holidays could affect the demand for taxi services. Likewise, areas hosting sporting events might experience a surge in taxi pickups. To incorporate this insight, we will use data from **PredictHQ - Demo**, which provides information on events in New York for the years 2014-2015.\n\nFor sports events, we will include only those that have high rank."
  },
  {
   "cell_type": "code",
   "id": "9d9fe31e-b3b2-4278-b7e1-37d896eddbce",
   "metadata": {
    "language": "sql",
    "name": "cell18",
    "collapsed": false
   },
   "outputs": [],
   "source": "-- Add new features that indicate current dat of the week, whether it was public or school holiday and\n\ncreate or replace table ny_taxi_rides_h3 as\nSELECT t1.*, DAYOFWEEK(t1.pickup_datetime) AS day_of_week,\n       IFF(t2.category = 'school-holidays', 'school-holidays', 'None') AS school_holiday,\n       IFF(t3.category = 'public-holidays', t3.phq_labels, 'None') AS public_holiday,\n       IFF(t4.category = 'sports', t4.labels, 'None') AS sport_event\nFROM ny_taxi_rides_h3 t1\nLEFT JOIN (select * from PREDICTHQ_DATA where category = 'school-holidays' and title ilike 'New York%') t2 \n    ON DATE(t1.pickup_datetime) between t2.start_time AND t2.end_time\nLEFT JOIN (select * from PREDICTHQ_DATA where labels ilike '%holiday-national%') t3 \n    ON DATE(t1.pickup_datetime) between t3.start_time AND t3.end_time\nLEFT JOIN (select * from PREDICTHQ_DATA where rank > 70 and category = 'sports') t4 \n    ON t1.pickup_datetime = date_trunc('hour', t4.start_time) \n    AND t1.h3 = h3_point_to_cell_string(t4.geog, 8)",
   "execution_count": null
  },
  {
   "cell_type": "markdown",
   "id": "81f00711-6b79-4224-a8b6-9495ec2658be",
   "metadata": {
    "name": "cell22",
    "collapsed": false
   },
   "source": "## Step 5. Training and Prediction\n\nIn this step, we'll divide our dataset into two parts: the Training set and the Test set. The Training set will be used to train our ML model. It will include data from the entirety of 2014 and part of 2015, going up to the current date. For instance, if today is April 5th, the Training set will cover the period from January 1st, 2014, to April 4th, 2015.\n\nThe test set, on the other hand, will contain data for one week starting April 5th, 2015. This setup allows us to evaluate the model's performance on data it hasn't seen during training, providing insight into how well it can predict future taxi trip volumes.\n\nAs soon as we have the Training and Test sets, we will run the training for the time series of each hexagon on the Training set, predict the \"future\" demand using the Test set, and compare it with the actual demand. Given that trip volumes may differ across hexagons, we will use a metric indifferent to absolute values. The Mean Absolute Percentage Error (MAPE) is a viable option."
  },
  {
   "cell_type": "code",
   "id": "08e9558d-98e1-44b3-9211-8c44d75e63a2",
   "metadata": {
    "language": "sql",
    "name": "cell20",
    "collapsed": false
   },
   "outputs": [],
   "source": "-- Create a Training set\n\ncreate or replace table ny_taxi_rides_h3_train\nas select * from ny_taxi_rides_h3\nwhere date(pickup_datetime) < DATEADD(year, -9, current_date())",
   "execution_count": null
  },
  {
   "cell_type": "code",
   "id": "7d4b6ef6-1ef8-422f-9c34-db2df9d27114",
   "metadata": {
    "language": "sql",
    "name": "cell19",
    "collapsed": false
   },
   "outputs": [],
   "source": "-- Create a Test set\n\nCREATE OR REPLACE TABLE ny_taxi_rides_h3_test AS\nselect h3, \n       pickup_datetime, \n       DAY_OF_WEEK,\n       SCHOOL_HOLIDAY,\n       PUBLIC_HOLIDAY,\n       SPORT_EVENT\nfrom ny_taxi_rides_h3\nwhere date(pickup_datetime) >= DATEADD(year, -9, current_date())\nand date(pickup_datetime) < DATEADD(day, 7, DATEADD(year, -9, current_date()))",
   "execution_count": null
  },
  {
   "cell_type": "code",
   "id": "55d2ba0a-ea63-4c6b-a23c-8104e6218472",
   "metadata": {
    "language": "sql",
    "name": "cell16",
    "collapsed": false
   },
   "outputs": [],
   "source": "-- Train the model using the Training set. We will create a separate model for each H3 cell ID.\n\ncreate or replace snowflake.ml.forecast my_demand_prediction_model(\n  input_data => system$reference('table', 'ny_taxi_rides_h3_train'),\n  series_colname => 'h3',\n  timestamp_colname => 'pickup_datetime',\n  target_colname => 'pickups'\n);",
   "execution_count": null
  },
  {
   "cell_type": "code",
   "id": "eba95f6d-a445-48e2-bda0-934c356b87b9",
   "metadata": {
    "language": "sql",
    "name": "cell13",
    "collapsed": false
   },
   "outputs": [],
   "source": "-- Create your predictions for one week of test data and store it in the \"forecasts\" table.\n\nBEGIN\n    CALL my_demand_prediction_model!FORECAST(\n        INPUT_DATA => SYSTEM$REFERENCE('TABLE', 'ny_taxi_rides_h3_test'),\n        SERIES_COLNAME => 'h3',\n        TIMESTAMP_COLNAME => 'pickup_datetime',\n        CONFIG_OBJECT => {'prediction_interval': 0.95}\n    );\n    -- These steps store your predictions to a table.\n    LET x := SQLID;\n    CREATE or replace TABLE forecasts AS SELECT * FROM TABLE(RESULT_SCAN(:x));\nEND;",
   "execution_count": null
  },
  {
   "cell_type": "code",
   "id": "fcd7351f-9185-41f5-bd78-fb8bf4cfc35c",
   "metadata": {
    "language": "sql",
    "name": "cell23",
    "collapsed": false
   },
   "outputs": [],
   "source": "-- If any forecasts or prediction interval are negative, convert to zero. \ncreate or replace table forecasts as \nselect series::string as h3, \n       ts as pickup_datetime,\n       case when forecast < 0 then 0 else forecast end as forecast,\n       case when lower_bound < 0 then 0 else lower_bound end as lower_bound,\n       case when upper_bound < 0 then 0 else upper_bound end as upper_bound\nfrom forecasts;",
   "execution_count": null
  },
  {
   "cell_type": "code",
   "id": "45004ed5-07bb-4133-9284-bfabdab0388f",
   "metadata": {
    "language": "sql",
    "name": "cell24",
    "collapsed": false
   },
   "outputs": [],
   "source": "create or replace table prediction_vs_actual as \nselect t1.h3, t1.pickup_datetime, t1.pickups, round(t2.forecast) as forecast\nfrom ny_taxi_rides_h3 t1\ninner join forecasts t2\non t1.h3 = t2.h3\nand t1.pickup_datetime = t2.pickup_datetime",
   "execution_count": null
  },
  {
   "cell_type": "code",
   "id": "11f129fc-6904-4589-ac41-fac8e3dc3f69",
   "metadata": {
    "language": "sql",
    "name": "cell26",
    "collapsed": false
   },
   "outputs": [],
   "source": "-- Let's see what is the MAPE value for each of the hexagons\n\nselect h3, \nsum(iff(pickups != 0, abs(pickups-forecast)/pickups, abs(pickups-forecast)/(pickups+1)))/168 as mape, \nsum(pickups) as pickups \nfrom aa_quickstart.public.prediction_vs_actual\ngroup by 1\norder by 2 desc;",
   "execution_count": null
  },
  {
   "cell_type": "markdown",
   "id": "7a34fac0-b44b-4c4d-85aa-d7b6be03a49e",
   "metadata": {
    "name": "cell27",
    "collapsed": false
   },
   "source": "You can notice that the more trips that occur within a hexagon, the better the prediction. The worst predictions are for hexagons with a relatively low number of trips."
  },
  {
   "cell_type": "markdown",
   "id": "8ee1c743-7be7-4307-84a9-78e37e272386",
   "metadata": {
    "name": "cell25",
    "collapsed": false
   },
   "source": "## Step 6. Visualization\n\nIn this step we will visualize the actual and predicted results on the map and build a plot showing predicted and actual results for one of the hexagons."
  }
 ]
}